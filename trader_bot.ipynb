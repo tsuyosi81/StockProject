{
 "cells": [
  {
   "cell_type": "code",
   "execution_count": 62,
   "metadata": {},
   "outputs": [],
   "source": [
    "from webull import paper_webull, endpoints # For real money trading, import 'webull instead.\n",
    "from webull.streamconn import StreamConn\n",
    "import paho.mqtt.client as mqtt\n",
    "import json\n",
    "import trendln\n",
    "import matplotlib\n",
    "import matplotlib.pyplot as plt\n",
    "import matplotlib.dates as mdates\n",
    "matplotlib.interactive(True)\n",
    "import numpy as np\n",
    "import pandas as pd\n",
    "import getpass\n",
    "from datetime import datetime\n",
    "import sched\n",
    "import time\n"
   ]
  },
  {
   "cell_type": "code",
   "execution_count": 48,
   "metadata": {},
   "outputs": [
    {
     "name": "stdout",
     "output_type": "stream",
     "text": [
      "logging in to Webull...\n"
     ]
    }
   ],
   "source": [
    "# NOTE Variables\n",
    "symbol = None\n",
    "period = None\n",
    "timeframe = None\n",
    "hist = []\n",
    "print(\"logging in to Webull...\")"
   ]
  },
  {
   "cell_type": "code",
   "execution_count": 63,
   "metadata": {},
   "outputs": [
    {
     "name": "stdout",
     "output_type": "stream",
     "text": [
      "First time login.\n"
     ]
    }
   ],
   "source": [
    "# NOTE Loging to Webull\n",
    "\n",
    "wb = paper_webull()\n",
    "f = None\n",
    "loginInfo = None\n",
    "try:\n",
    "    f = open(\"token.txt\", \"r\")\n",
    "    loginInfo = json.load(f)\n",
    "except:\n",
    "    print(\"First time login.\")\n",
    "hist = None\n",
    "support = 0\n",
    "resistance = 0\n",
    "enteredTrade = False\n",
    "email = \"tsuyosi81@icloud.com\"\n",
    "phone = '+1-2249441454'\n",
    "password = getpass.getpass('Type your password : ')\n",
    "s = sched.scheduler(time.time, time.sleep)"
   ]
  },
  {
   "cell_type": "code",
   "execution_count": 65,
   "metadata": {},
   "outputs": [],
   "source": [
    "# NOTE If first time, save login as token\n",
    "if not loginInfo:\n",
    "    wb.get_mfa(email) #mobile number should be okay as well.\n",
    "    code = input('Enter MFA Code : ')\n",
    "    loginInfo = wb.login(email, password, phone, code)\n",
    "    f = open(\"token.txt\", \"w\")\n",
    "    f.write(json.dumps(loginInfo))\n",
    "    f.close()\n",
    "else:\n",
    "    wb.refresh_login()\n",
    "    loginInfo = wb.login(email, password)"
   ]
  }
 ],
 "metadata": {
  "kernelspec": {
   "display_name": "Python 3.10.7 64-bit",
   "language": "python",
   "name": "python3"
  },
  "language_info": {
   "codemirror_mode": {
    "name": "ipython",
    "version": 3
   },
   "file_extension": ".py",
   "mimetype": "text/x-python",
   "name": "python",
   "nbconvert_exporter": "python",
   "pygments_lexer": "ipython3",
   "version": "3.10.7"
  },
  "orig_nbformat": 4,
  "vscode": {
   "interpreter": {
    "hash": "26de051ba29f2982a8de78e945f0abaf191376122a1563185a90213a26c5da77"
   }
  }
 },
 "nbformat": 4,
 "nbformat_minor": 2
}
